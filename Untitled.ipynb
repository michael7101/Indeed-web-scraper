{
 "cells": [
  {
   "cell_type": "code",
   "execution_count": 1,
   "id": "0382db71-516c-434b-a285-cf271ebcccf8",
   "metadata": {},
   "outputs": [],
   "source": [
    "import csv\n",
    "from datetime import datetime, timedelta\n",
    "import requests\n",
    "from bs4 import BeautifulSoup, SoupStrainer\n",
    "import httplib2\n",
    "import re\n",
    "import pandas as pd\n",
    "import math\n",
    "import time\n",
    "from time import sleep\n",
    "from random import randint"
   ]
  },
  {
   "cell_type": "code",
   "execution_count": 2,
   "id": "4d657cc2-24cc-4b4f-aefa-e20dbfc0664c",
   "metadata": {},
   "outputs": [],
   "source": [
    "baselink = \"https://ca.indeed.com\"\n",
    "headers = {\"User-Agent\": \"Mozilla/5.0 (Windows NT 10.0; Win64; x64) AppleWebKit/537.36 (KHTML, like Gecko) Chrome/99.0.4844.51 Safari/537.36\"}"
   ]
  },
  {
   "cell_type": "code",
   "execution_count": 3,
   "id": "bfb44d69-22ad-4bc3-9d5b-88f8e74a60ef",
   "metadata": {},
   "outputs": [],
   "source": [
    "df = pd.DataFrame(columns=['Title', 'Company', 'Location', 'JobLink',\n",
    "                           'CompanyLink', 'DatePosted', 'ExtractDate',\n",
    "                           'Description', 'Salary', 'JobType', 'Remote', 'Reviews', 'Stars'])"
   ]
  },
  {
   "cell_type": "code",
   "execution_count": 4,
   "id": "d61ed310-422d-4f5e-ac70-a13041e06c8c",
   "metadata": {},
   "outputs": [
    {
     "name": "stdout",
     "output_type": "stream",
     "text": [
      "https://ca.indeed.com/jobs?q=data+analyst&l=canada&fromage=7\n"
     ]
    }
   ],
   "source": [
    "# Generate url from position, location and date posted.\n",
    "def get_url(position, location, dateposted):\n",
    "    template = 'https://ca.indeed.com/jobs?q={}&l={}&fromage={}'\n",
    "    position = position.replace(' ', '+')\n",
    "    location = location.replace(' ', '+')\n",
    "    dateposted = dateposted.replace(' ', '+')\n",
    "    url = template.format(position, location, dateposted)\n",
    "    return url\n",
    "url = get_url('data analyst', 'canada', '7')\n",
    "print(url)"
   ]
  },
  {
   "cell_type": "code",
   "execution_count": 5,
   "id": "99bf84cf-fb11-4f6a-9d95-d329d06f7258",
   "metadata": {},
   "outputs": [],
   "source": [
    "r = requests.get(url, headers = headers)"
   ]
  },
  {
   "cell_type": "code",
   "execution_count": 6,
   "id": "c4b149bc-0d4e-4a26-b81e-6342d72f2436",
   "metadata": {},
   "outputs": [],
   "source": [
    "soup = BeautifulSoup(r.content, 'html.parser')"
   ]
  },
  {
   "cell_type": "code",
   "execution_count": 7,
   "id": "3564f2d6-06f4-494e-95ac-dd9be7290ec7",
   "metadata": {},
   "outputs": [],
   "source": [
    "pages = soup.find(\"div\", attrs={\"id\": \"searchCountPages\"})"
   ]
  },
  {
   "cell_type": "code",
   "execution_count": null,
   "id": "b8fc377f-c927-48d7-8cd7-029c21df7bff",
   "metadata": {},
   "outputs": [],
   "source": [
    "r = requests.get(url, headers = headers)\n",
    "soup = BeautifulSoup(r.content, 'html.parser')\n",
    "pages = soup.find(\"div\", attrs={\"id\": \"searchCountPages\"})"
   ]
  }
 ],
 "metadata": {
  "kernelspec": {
   "display_name": "Python 3 (ipykernel)",
   "language": "python",
   "name": "python3"
  },
  "language_info": {
   "codemirror_mode": {
    "name": "ipython",
    "version": 3
   },
   "file_extension": ".py",
   "mimetype": "text/x-python",
   "name": "python",
   "nbconvert_exporter": "python",
   "pygments_lexer": "ipython3",
   "version": "3.9.7"
  }
 },
 "nbformat": 4,
 "nbformat_minor": 5
}
